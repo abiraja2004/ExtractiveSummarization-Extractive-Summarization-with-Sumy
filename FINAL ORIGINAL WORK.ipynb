{
 "cells": [
  {
   "cell_type": "code",
   "execution_count": 11,
   "metadata": {
    "scrolled": true
   },
   "outputs": [
    {
     "name": "stdout",
     "output_type": "stream",
     "text": [
      "Requirement already satisfied: sumy in c:\\users\\atenk\\anaconda3\\lib\\site-packages (0.7.0)\n",
      "Requirement already satisfied: nltk>=3.0.2 in c:\\users\\atenk\\anaconda3\\lib\\site-packages (from sumy) (3.2.5)\n",
      "Requirement already satisfied: breadability>=0.1.20 in c:\\users\\atenk\\anaconda3\\lib\\site-packages (from sumy) (0.1.20)\n",
      "Requirement already satisfied: docopt<0.7,>=0.6.1 in c:\\users\\atenk\\anaconda3\\lib\\site-packages (from sumy) (0.6.2)\n",
      "Requirement already satisfied: requests>=2.7.0 in c:\\users\\atenk\\anaconda3\\lib\\site-packages (from sumy) (2.18.4)\n",
      "Requirement already satisfied: six in c:\\users\\atenk\\anaconda3\\lib\\site-packages (from nltk>=3.0.2->sumy) (1.11.0)\n",
      "Requirement already satisfied: lxml>=2.0 in c:\\users\\atenk\\anaconda3\\lib\\site-packages (from breadability>=0.1.20->sumy) (4.1.1)\n",
      "Requirement already satisfied: chardet in c:\\users\\atenk\\anaconda3\\lib\\site-packages (from breadability>=0.1.20->sumy) (3.0.4)\n",
      "Requirement already satisfied: idna<2.7,>=2.5 in c:\\users\\atenk\\anaconda3\\lib\\site-packages (from requests>=2.7.0->sumy) (2.6)\n",
      "Requirement already satisfied: urllib3<1.23,>=1.21.1 in c:\\users\\atenk\\anaconda3\\lib\\site-packages (from requests>=2.7.0->sumy) (1.22)\n",
      "Requirement already satisfied: certifi>=2017.4.17 in c:\\users\\atenk\\anaconda3\\lib\\site-packages (from requests>=2.7.0->sumy) (2018.1.18)\n"
     ]
    }
   ],
   "source": [
    "! pip install sumy"
   ]
  },
  {
   "cell_type": "code",
   "execution_count": 12,
   "metadata": {},
   "outputs": [
    {
     "name": "stdout",
     "output_type": "stream",
     "text": [
      "Sumy - automatic text summarizer.\n",
      "\n",
      "Usage:\n",
      "    sumy (luhn | edmundson | lsa | text-rank | lex-rank | sum-basic | kl) [--length=<length>] [--language=<lang>] [--stopwords=<file_path>] [--format=<format>]\n",
      "    sumy (luhn | edmundson | lsa | text-rank | lex-rank | sum-basic | kl) [--length=<length>] [--language=<lang>] [--stopwords=<file_path>] [--format=<format>] --url=<url>\n",
      "    sumy (luhn | edmundson | lsa | text-rank | lex-rank | sum-basic | kl) [--length=<length>] [--language=<lang>] [--stopwords=<file_path>] [--format=<format>] --file=<file_path>\n",
      "    sumy (luhn | edmundson | lsa | text-rank | lex-rank | sum-basic | kl) [--length=<length>] [--language=<lang>] [--stopwords=<file_path>] [--format=<format>] --text=<text>\n",
      "    sumy --version\n",
      "    sumy --help\n",
      "\n",
      "Options:\n",
      "    --length=<length>        Length of summarized text. It may be count of sentences\n",
      "                             or percentage of input text. [default: 20%]\n",
      "    --language=<lang>        Natural language of summarized text. [default: english]\n",
      "    --stopwords=<file_path>  Path to a file containing a list of stopwords. One word per line in UTF-8 encoding.\n",
      "                             If it's not provided default list of stop-words is used according to chosen language.\n",
      "    --format=<format>        Format of input document. Possible values: html, plaintext\n",
      "    --url=<url>              URL address of the web page to summarize.\n",
      "    --file=<file_path>       Path to the text file to summarize.\n",
      "    --text=<text>            Raw text to summarize\n",
      "    --version                Displays current application version.\n",
      "    --help                   Displays this text.\n"
     ]
    }
   ],
   "source": [
    "!sumy --help"
   ]
  },
  {
   "cell_type": "code",
   "execution_count": 13,
   "metadata": {},
   "outputs": [
    {
     "name": "stdout",
     "output_type": "stream",
     "text": [
      "Dolphins running backs Ronnie Brown and Ricky Williams, sharing a backfield, ran a college offense to perfection and made a respected Patriots defense look silly in a 38-13 victory in Foxborough, Massachusetts, on Sept. 21, 2008.\n"
     ]
    }
   ],
   "source": [
    "from sumy.parsers.html import HtmlParser\n",
    "from sumy.nlp.tokenizers import Tokenizer\n",
    "from sumy.summarizers.lsa import LsaSummarizer as Summarizer\n",
    "from sumy.nlp.stemmers import Stemmer\n",
    "from sumy.utils import get_stop_words\n",
    "\n",
    "LANGUAGE = \"english\"\n",
    "SENTENCES_COUNT = 1\n",
    "\n",
    "if __name__ == \"__main__\":\n",
    "    url = \"http://www.espn.com/blog/miami-dolphins/post/_/id/28295/wildcat-strike-how-2008-dolphins-shocked-patriots-and-the-nfl\"\n",
    "    parser = HtmlParser.from_url(url, Tokenizer(LANGUAGE))\n",
    "    stemmer = Stemmer(LANGUAGE)\n",
    "    summarizer = Summarizer(stemmer)\n",
    "    summarizer.stop_words = get_stop_words(LANGUAGE)\n",
    "    sent = \"\";\n",
    "    for sentence in summarizer(parser.document, SENTENCES_COUNT):\n",
    "        print(sentence)\n",
    "        sent += str(sentence)\n",
    "    sum1 = len(sent) \n",
    "    "
   ]
  },
  {
   "cell_type": "code",
   "execution_count": 14,
   "metadata": {},
   "outputs": [
    {
     "name": "stdout",
     "output_type": "stream",
     "text": [
      "Even if we cut greenhouse gas emissions dramatically now, scientists say the effects will continue because parts of the climate system, particularly large bodies of water and ice, can take hundreds of years to respond to changes in temperature.\n"
     ]
    }
   ],
   "source": [
    "from sumy.parsers.html import HtmlParser\n",
    "from sumy.nlp.tokenizers import Tokenizer\n",
    "from sumy.summarizers.lsa import LsaSummarizer as Summarizer\n",
    "from sumy.nlp.stemmers import Stemmer\n",
    "from sumy.utils import get_stop_words\n",
    "\n",
    "LANGUAGE = \"english\"\n",
    "SENTENCES_COUNT = 1\n",
    "\n",
    "if __name__ == \"__main__\":\n",
    "    url = \"https://www.bbc.com/news/science-environment-24021772\"\n",
    "    parser = HtmlParser.from_url(url, Tokenizer(LANGUAGE))\n",
    "    stemmer = Stemmer(LANGUAGE)\n",
    "    summarizer = Summarizer(stemmer)\n",
    "    summarizer.stop_words = get_stop_words(LANGUAGE)\n",
    "    sent = \"\";\n",
    "    for sentence in summarizer(parser.document, SENTENCES_COUNT):\n",
    "        print(sentence)\n",
    "        sent += str(sentence)\n",
    "    sum2 = len(sent) "
   ]
  },
  {
   "cell_type": "code",
   "execution_count": 15,
   "metadata": {},
   "outputs": [
    {
     "name": "stdout",
     "output_type": "stream",
     "text": [
      "Animals that learn songs or speech are relatively rare -- parrots, hummingbirds, songbirds, whales, dolphins, seals and bats -- which makes them particularly interesting to scientists, such as Wirthlin, who hope to gain a better understanding of how humans evolved this capacity.\n"
     ]
    }
   ],
   "source": [
    "from sumy.parsers.html import HtmlParser\n",
    "from sumy.nlp.tokenizers import Tokenizer\n",
    "from sumy.summarizers.lsa import LsaSummarizer as Summarizer\n",
    "from sumy.nlp.stemmers import Stemmer\n",
    "from sumy.utils import get_stop_words\n",
    "\n",
    "LANGUAGE = \"english\"\n",
    "SENTENCES_COUNT = 1\n",
    "\n",
    "if __name__ == \"__main__\":\n",
    "    url = \"https://www.sciencedaily.com/releases/2018/12/181206114829.htm\"\n",
    "    parser = HtmlParser.from_url(url, Tokenizer(LANGUAGE))\n",
    "    stemmer = Stemmer(LANGUAGE)\n",
    "    summarizer = Summarizer(stemmer)\n",
    "    summarizer.stop_words = get_stop_words(LANGUAGE)\n",
    "    sent = \"\";\n",
    "    for sentence in summarizer(parser.document, SENTENCES_COUNT):\n",
    "        print(sentence)\n",
    "        sent += str(sentence)\n",
    "    sum3 = len(sent) "
   ]
  },
  {
   "cell_type": "code",
   "execution_count": 16,
   "metadata": {},
   "outputs": [
    {
     "name": "stdout",
     "output_type": "stream",
     "text": [
      "As he and a small team of aides weigh the merits of a campaign , Mr. O’Rourke, 46, has focused largely on whether he could run the kind of race he did in Texas — barnstorming towns with a liberal message and a perpetual social media live-stream, talking up his disdain for pollsters and super PACs and staking his bid on a personal connection with voters as much as any issue platform.\n"
     ]
    }
   ],
   "source": [
    "from sumy.parsers.html import HtmlParser\n",
    "from sumy.nlp.tokenizers import Tokenizer\n",
    "from sumy.summarizers.lsa import LsaSummarizer as Summarizer\n",
    "from sumy.nlp.stemmers import Stemmer\n",
    "from sumy.utils import get_stop_words\n",
    "\n",
    "LANGUAGE = \"english\"\n",
    "SENTENCES_COUNT = 1\n",
    "\n",
    "if __name__ == \"__main__\":\n",
    "    url = \"https://www.nytimes.com/2018/12/09/us/politics/beto-2020-presidential-race.html\"\n",
    "    parser = HtmlParser.from_url(url, Tokenizer(LANGUAGE))\n",
    "    stemmer = Stemmer(LANGUAGE)\n",
    "    summarizer = Summarizer(stemmer)\n",
    "    summarizer.stop_words = get_stop_words(LANGUAGE)\n",
    "    sent = \"\";\n",
    "    for sentence in summarizer(parser.document, SENTENCES_COUNT):\n",
    "        print(sentence)\n",
    "        sent += str(sentence)\n",
    "    sum4 = len(sent)"
   ]
  },
  {
   "cell_type": "code",
   "execution_count": 17,
   "metadata": {},
   "outputs": [
    {
     "name": "stdout",
     "output_type": "stream",
     "text": [
      "The Fed has been a big concern, but central bank officials seem to have been making a concerted effort to assure markets they will move cautiously, even if they raise interest rates this month, as expected.\n"
     ]
    }
   ],
   "source": [
    "from sumy.parsers.html import HtmlParser\n",
    "from sumy.nlp.tokenizers import Tokenizer\n",
    "from sumy.summarizers.lsa import LsaSummarizer as Summarizer\n",
    "from sumy.nlp.stemmers import Stemmer\n",
    "from sumy.utils import get_stop_words\n",
    "\n",
    "LANGUAGE = \"english\"\n",
    "SENTENCES_COUNT = 1\n",
    "\n",
    "if __name__ == \"__main__\":\n",
    "    url = \"https://www.cnbc.com/2018/12/07/stocks-could-be-set-up-for-another-violent-week-of-selling-.html\"\n",
    "    parser = HtmlParser.from_url(url, Tokenizer(LANGUAGE))\n",
    "    stemmer = Stemmer(LANGUAGE)\n",
    "    summarizer = Summarizer(stemmer)\n",
    "    summarizer.stop_words = get_stop_words(LANGUAGE)\n",
    "    sent = \"\";\n",
    "    for sentence in summarizer(parser.document, SENTENCES_COUNT):\n",
    "        print(sentence)\n",
    "        sent += str(sentence)\n",
    "    sum5 = len(sent)"
   ]
  },
  {
   "cell_type": "code",
   "execution_count": 18,
   "metadata": {
    "scrolled": false
   },
   "outputs": [
    {
     "data": {
      "text/html": [
       "<div>\n",
       "<style scoped>\n",
       "    .dataframe tbody tr th:only-of-type {\n",
       "        vertical-align: middle;\n",
       "    }\n",
       "\n",
       "    .dataframe tbody tr th {\n",
       "        vertical-align: top;\n",
       "    }\n",
       "\n",
       "    .dataframe thead th {\n",
       "        text-align: right;\n",
       "    }\n",
       "</style>\n",
       "<table border=\"1\" class=\"dataframe\">\n",
       "  <thead>\n",
       "    <tr style=\"text-align: right;\">\n",
       "      <th></th>\n",
       "      <th>original_length</th>\n",
       "      <th>summary_length</th>\n",
       "      <th>percent_of_original</th>\n",
       "    </tr>\n",
       "  </thead>\n",
       "  <tbody>\n",
       "    <tr>\n",
       "      <th>0</th>\n",
       "      <td>14059</td>\n",
       "      <td>229</td>\n",
       "      <td>1.628850</td>\n",
       "    </tr>\n",
       "    <tr>\n",
       "      <th>1</th>\n",
       "      <td>8047</td>\n",
       "      <td>244</td>\n",
       "      <td>3.032186</td>\n",
       "    </tr>\n",
       "    <tr>\n",
       "      <th>2</th>\n",
       "      <td>3025</td>\n",
       "      <td>279</td>\n",
       "      <td>9.223140</td>\n",
       "    </tr>\n",
       "    <tr>\n",
       "      <th>3</th>\n",
       "      <td>13936</td>\n",
       "      <td>385</td>\n",
       "      <td>2.762629</td>\n",
       "    </tr>\n",
       "    <tr>\n",
       "      <th>4</th>\n",
       "      <td>6261</td>\n",
       "      <td>206</td>\n",
       "      <td>3.290209</td>\n",
       "    </tr>\n",
       "  </tbody>\n",
       "</table>\n",
       "</div>"
      ],
      "text/plain": [
       "   original_length  summary_length  percent_of_original\n",
       "0            14059             229             1.628850\n",
       "1             8047             244             3.032186\n",
       "2             3025             279             9.223140\n",
       "3            13936             385             2.762629\n",
       "4             6261             206             3.290209"
      ]
     },
     "execution_count": 18,
     "metadata": {},
     "output_type": "execute_result"
    }
   ],
   "source": [
    "import pandas as pd\n",
    "import numpy as np\n",
    "import scipy as sp\n",
    "\n",
    "df = pd.DataFrame(\n",
    "    {\n",
    "        \"original_length\": [14059, 8047, 3025, 13936, 6261],\n",
    "        \"summary_length\": [sum1, sum2, sum3, sum4, sum5],\n",
    "    }\n",
    ")\n",
    "\n",
    "df['percent_of_original'] = df['summary_length']/df['original_length'] * 100\n",
    "df"
   ]
  },
  {
   "cell_type": "code",
   "execution_count": 19,
   "metadata": {},
   "outputs": [],
   "source": [
    "import matplotlib"
   ]
  },
  {
   "cell_type": "code",
   "execution_count": 20,
   "metadata": {},
   "outputs": [],
   "source": [
    "import matplotlib.pyplot as plt"
   ]
  },
  {
   "cell_type": "code",
   "execution_count": 21,
   "metadata": {},
   "outputs": [
    {
     "data": {
      "text/plain": [
       "<matplotlib.axes._subplots.AxesSubplot at 0x22ef63e8f98>"
      ]
     },
     "execution_count": 21,
     "metadata": {},
     "output_type": "execute_result"
    },
    {
     "data": {
      "image/png": "[encoded data removed]",
      "text/plain": [
       "<matplotlib.figure.Figure at 0x22ef62ed208>"
      ]
     },
     "metadata": {},
     "output_type": "display_data"
    }
   ],
   "source": [
    "df.plot(kind=\"bar\", stacked= True)"
   ]
  },
  {
   "cell_type": "code",
   "execution_count": null,
   "metadata": {},
   "outputs": [],
   "source": []
  },
  {
   "cell_type": "code",
   "execution_count": null,
   "metadata": {},
   "outputs": [],
   "source": []
  },
  {
   "cell_type": "code",
   "execution_count": null,
   "metadata": {},
   "outputs": [],
   "source": []
  },
  {
   "cell_type": "code",
   "execution_count": null,
   "metadata": {},
   "outputs": [],
   "source": []
  }
 ],
 "metadata": {
  "kernelspec": {
   "display_name": "Python 3",
   "language": "python",
   "name": "python3"
  },
  "language_info": {
   "codemirror_mode": {
    "name": "ipython",
    "version": 3
   },
   "file_extension": ".py",
   "mimetype": "text/x-python",
   "name": "python",
   "nbconvert_exporter": "python",
   "pygments_lexer": "ipython3",
   "version": "3.6.4"
  }
 },
 "nbformat": 4,
 "nbformat_minor": 2
}
